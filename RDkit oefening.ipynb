{
 "cells": [
  {
   "cell_type": "code",
   "execution_count": 3,
   "id": "31fe0f36",
   "metadata": {},
   "outputs": [
    {
     "name": "stdout",
     "output_type": "stream",
     "text": [
      "5\n"
     ]
    }
   ],
   "source": [
    "x=2+3\n",
    "print(x)"
   ]
  },
  {
   "cell_type": "code",
   "execution_count": 13,
   "id": "f1079c5d",
   "metadata": {},
   "outputs": [],
   "source": [
    "import rdkit"
   ]
  },
  {
   "cell_type": "code",
   "execution_count": 6,
   "id": "c3665443",
   "metadata": {},
   "outputs": [
    {
     "name": "stdout",
     "output_type": "stream",
     "text": [
      "['Name', 'Smiles']\n",
      "            Name                                             Smiles\n",
      "0  Penicilline G    CC1(C(N2C(S1)C(C2=O)NC(=O)CC3=CC=CC=C3)C(=O)O)C\n",
      "1   Tetracycline  CC1(C2CC3C(C(=O)C(=C(C3(C(=O)C2=C(C4=C1C=CC=C4...\n",
      "2    Ampicilline  CC1(C(N2C(S1)C(C2=O)NC(=O)C(C3=CC=CC=C3)N)C(=O...\n"
     ]
    }
   ],
   "source": [
    "from rdkit.Chem import PandasTools\n",
    "import pandas as pd\n",
    "import os\n",
    "from rdkit import RDConfig\n",
    "antibiotics = pd.DataFrame(columns=['Name','Smiles'])\n",
    "antibiotics = antibiotics.append({'Smiles':'CC1(C(N2C(S1)C(C2=O)NC(=O)CC3=CC=CC=C3)C(=O)O)C',\n",
    "  'Name':'Penicilline G'}, ignore_index=True)#Penicilline G\n",
    "antibiotics = antibiotics.append({\n",
    "  'Smiles':'CC1(C2CC3C(C(=O)C(=C(C3(C(=O)C2=C(C4=C1C=CC=C4O)O)O)O)C(=O)N)N(C)C)O',\n",
    "  'Name':'Tetracycline'}, ignore_index=True)#Tetracycline\n",
    "antibiotics = antibiotics.append({\n",
    "  'Smiles':'CC1(C(N2C(S1)C(C2=O)NC(=O)C(C3=CC=CC=C3)N)C(=O)O)C',\n",
    "  'Name':'Ampicilline'}, ignore_index=True)#Ampicilline\n",
    "print([str(x) for x in  antibiotics.columns])\n",
    "['Name', 'Smiles']\n",
    "print(antibiotics)\n"
   ]
  },
  {
   "cell_type": "code",
   "execution_count": 14,
   "id": "8a6c930e",
   "metadata": {},
   "outputs": [
    {
     "data": {
      "image/png": "[encoded data removed]",
      "text/plain": [
       "<rdkit.Chem.rdchem.Mol at 0x1985a387490>"
      ]
     },
     "execution_count": 14,
     "metadata": {},
     "output_type": "execute_result"
    }
   ],
   "source": [
    "from rdkit import Chem\n",
    "\n",
    "mol = Chem.MolFromSmiles('c1ccccc1')\n",
    "mol"
   ]
  },
  {
   "cell_type": "code",
   "execution_count": 46,
   "id": "e5f7992e",
   "metadata": {},
   "outputs": [
    {
     "data": {
      "image/png": "[encoded data removed]",
      "text/plain": [
       "<rdkit.Chem.rdchem.Mol at 0x1985b405d50>"
      ]
     },
     "execution_count": 46,
     "metadata": {},
     "output_type": "execute_result"
    }
   ],
   "source": [
    "mol2 = Chem.MolFromSmiles('CC1(C2CC3C(C(=O)C(=C(C3(C(=O)C2=C(C4=C1C=CC=C4O)O)O)O)C(=O)N)N(C)C)O')\n",
    "mol3 = Chem.MolFromSmiles('CC(=O)NC1=CC=C(C=C1)O')\n",
    "mol2 \n",
    "mol3"
   ]
  },
  {
   "cell_type": "code",
   "execution_count": 47,
   "id": "5d05b4df",
   "metadata": {},
   "outputs": [],
   "source": [
    "from rdkit.Chem import Descriptors\n",
    "from rdkit.Chem.Descriptors import ExactMolWt\n"
   ]
  },
  {
   "cell_type": "code",
   "execution_count": 48,
   "id": "1a3bcbf1",
   "metadata": {},
   "outputs": [
    {
     "name": "stdout",
     "output_type": "stream",
     "text": [
      "444.1532657279999\n",
      "1.15625\n",
      "420.24800000000016\n",
      "444.1532657279999\n"
     ]
    }
   ],
   "source": [
    "proef = ExactMolWt(Chem.MolFromSmiles('CC1(C2CC3C(C(=O)C(=C(C3(C(=O)C2=C(C4=C1C=CC=C4O)O)O)O)C(=O)N)N(C)C)O'))\n",
    "print (proef)\n",
    "proef2 = rdkit.Chem.Descriptors.FpDensityMorgan1(Chem.MolFromSmiles('CC1(C2CC3C(C(=O)C(=C(C3(C(=O)C2=C(C4=C1C=CC=C4O)O)O)O)C(=O)N)N(C)C)O'))\n",
    "print (proef2)\n",
    "proef3 = rdkit.Chem.Descriptors.HeavyAtomMolWt(Chem.MolFromSmiles('CC1(C2CC3C(C(=O)C(=C(C3(C(=O)C2=C(C4=C1C=CC=C4O)O)O)O)C(=O)N)N(C)C)O'))\n",
    "print (proef3)\n",
    "smiles = 'CC1(C2CC3C(C(=O)C(=C(C3(C(=O)C2=C(C4=C1C=CC=C4O)O)O)O)C(=O)N)N(C)C)O'\n",
    "proef4 = ExactMolWt(Chem.MolFromSmiles(smiles))\n",
    "print (proef4)"
   ]
  },
  {
   "cell_type": "code",
   "execution_count": 49,
   "id": "180dfd68",
   "metadata": {},
   "outputs": [
    {
     "name": "stdout",
     "output_type": "stream",
     "text": [
      "0.5077369129004043 0.062268570782092456 0.5077369129004043 0.5079643157925783\n"
     ]
    }
   ],
   "source": [
    "charge = rdkit.Chem.Descriptors.MaxAbsPartialCharge(Chem.MolFromSmiles('CC1(C2CC3C(C(=O)C(=C(C3(C(=O)C2=C(C4=C1C=CC=C4O)O)O)O)C(=O)N)N(C)C)O'), force=False)\n",
    "charge1 = rdkit.Chem.Descriptors.MaxAbsPartialCharge(mol, force=False)  \n",
    "charge2 = rdkit.Chem.Descriptors.MaxAbsPartialCharge(mol2, force=False)\n",
    "charge3 = rdkit.Chem.Descriptors.MaxAbsPartialCharge(mol3, force=False)\n",
    "print (charge, charge1, charge2, charge3)"
   ]
  },
  {
   "cell_type": "code",
   "execution_count": 50,
   "id": "12217fc2",
   "metadata": {},
   "outputs": [
    {
     "name": "stdout",
     "output_type": "stream",
     "text": [
      "0 0 0\n"
     ]
    }
   ],
   "source": [
    "rad1 = rdkit.Chem.Descriptors.NumRadicalElectrons(mol) # descriptor to calculate the amount of radical electrons present in a molecule\n",
    "rad2 = rdkit.Chem.Descriptors.NumRadicalElectrons(mol2)\n",
    "rad3 = rdkit.Chem.Descriptors.NumRadicalElectrons(mol3)\n",
    "print (rad1, rad2, rad3)"
   ]
  },
  {
   "cell_type": "code",
   "execution_count": 51,
   "id": "51d6b45f",
   "metadata": {},
   "outputs": [
    {
     "name": "stdout",
     "output_type": "stream",
     "text": [
      "30 170 58\n"
     ]
    }
   ],
   "source": [
    "val1 = rdkit.Chem.Descriptors.NumValenceElectrons(mol)\n",
    "val2 = rdkit.Chem.Descriptors.NumValenceElectrons(mol2)\n",
    "val3 = rdkit.Chem.Descriptors.NumValenceElectrons(mol3)\n",
    "print (val1, val2, val3)"
   ]
  },
  {
   "cell_type": "code",
   "execution_count": 53,
   "id": "4a3a1f1a",
   "metadata": {},
   "outputs": [
    {
     "name": "stdout",
     "output_type": "stream",
     "text": [
      "\n",
      "     RDKit          2D\n",
      "\n",
      " 32 35  0  0  0  0  0  0  0  0999 V2000\n",
      "    2.6491   -1.6339    0.0000 C   0  0  0  0  0  0  0  0  0  0  0  0\n",
      "    1.5000   -2.5981    0.0000 C   0  0  0  0  0  0  0  0  0  0  0  0\n",
      "    0.7500   -3.8971    0.0000 C   0  0  0  0  0  0  0  0  0  0  0  0\n",
      "    1.5000   -5.1962    0.0000 C   0  0  0  0  0  0  0  0  0  0  0  0\n",
      "    0.7500   -6.4952    0.0000 C   0  0  0  0  0  0  0  0  0  0  0  0\n",
      "    1.5000   -7.7942    0.0000 C   0  0  0  0  0  0  0  0  0  0  0  0\n",
      "    0.7500   -9.0933    0.0000 C   0  0  0  0  0  0  0  0  0  0  0  0\n",
      "    1.5000  -10.3923    0.0000 O   0  0  0  0  0  0  0  0  0  0  0  0\n",
      "   -0.7500   -9.0933    0.0000 C   0  0  0  0  0  0  0  0  0  0  0  0\n",
      "   -1.5000   -7.7942    0.0000 C   0  0  0  0  0  0  0  0  0  0  0  0\n",
      "   -0.7500   -6.4952    0.0000 C   0  0  0  0  0  0  0  0  0  0  0  0\n",
      "   -1.5000   -5.1962    0.0000 C   0  0  0  0  0  0  0  0  0  0  0  0\n",
      "   -3.0000   -5.1962    0.0000 O   0  0  0  0  0  0  0  0  0  0  0  0\n",
      "   -0.7500   -3.8971    0.0000 C   0  0  0  0  0  0  0  0  0  0  0  0\n",
      "   -1.5000   -2.5981    0.0000 C   0  0  0  0  0  0  0  0  0  0  0  0\n",
      "   -0.7500   -1.2990    0.0000 C   0  0  0  0  0  0  0  0  0  0  0  0\n",
      "    0.7500   -1.2990    0.0000 C   0  0  0  0  0  0  0  0  0  0  0  0\n",
      "    1.5000    0.0000    0.0000 C   0  0  0  0  0  0  0  0  0  0  0  0\n",
      "    0.7500    1.2990    0.0000 C   0  0  0  0  0  0  0  0  0  0  0  0\n",
      "   -0.7500    1.2990    0.0000 C   0  0  0  0  0  0  0  0  0  0  0  0\n",
      "   -1.5000    0.0000    0.0000 C   0  0  0  0  0  0  0  0  0  0  0  0\n",
      "   -3.0000    0.0000    0.0000 O   0  0  0  0  0  0  0  0  0  0  0  0\n",
      "   -3.0000   -2.5981    0.0000 O   0  0  0  0  0  0  0  0  0  0  0  0\n",
      "   -2.2500   -6.4952    0.0000 O   0  0  0  0  0  0  0  0  0  0  0  0\n",
      "   -3.0000   -7.7942    0.0000 O   0  0  0  0  0  0  0  0  0  0  0  0\n",
      "   -1.5000  -10.3923    0.0000 C   0  0  0  0  0  0  0  0  0  0  0  0\n",
      "   -0.7500  -11.6913    0.0000 O   0  0  0  0  0  0  0  0  0  0  0  0\n",
      "   -3.0000  -10.3923    0.0000 N   0  0  0  0  0  0  0  0  0  0  0  0\n",
      "    3.0000   -7.7942    0.0000 N   0  0  0  0  0  0  0  0  0  0  0  0\n",
      "    3.7500   -9.0933    0.0000 C   0  0  0  0  0  0  0  0  0  0  0  0\n",
      "    3.7500   -6.4952    0.0000 C   0  0  0  0  0  0  0  0  0  0  0  0\n",
      "    2.6491   -3.5623    0.0000 O   0  0  0  0  0  0  0  0  0  0  0  0\n",
      "  1  2  1  0\n",
      "  2  3  1  0\n",
      "  3  4  1  0\n",
      "  4  5  1  0\n",
      "  5  6  1  0\n",
      "  6  7  1  0\n",
      "  7  8  2  0\n",
      "  7  9  1  0\n",
      "  9 10  2  0\n",
      " 10 11  1  0\n",
      " 11 12  1  0\n",
      " 12 13  2  0\n",
      " 12 14  1  0\n",
      " 14 15  2  0\n",
      " 15 16  1  0\n",
      " 16 17  2  0\n",
      " 17 18  1  0\n",
      " 18 19  2  0\n",
      " 19 20  1  0\n",
      " 20 21  2  0\n",
      " 21 22  1  0\n",
      " 15 23  1  0\n",
      " 11 24  1  0\n",
      " 10 25  1  0\n",
      "  9 26  1  0\n",
      " 26 27  2  0\n",
      " 26 28  1  0\n",
      "  6 29  1  0\n",
      " 29 30  1  0\n",
      " 29 31  1  0\n",
      "  2 32  1  0\n",
      " 17  2  1  0\n",
      " 14  3  1  0\n",
      " 11  5  1  0\n",
      " 21 16  1  0\n",
      "M  END\n",
      "\n"
     ]
    }
   ],
   "source": [
    "print(Chem.MolToMolBlock(mol2)) #fingerprint?"
   ]
  },
  {
   "cell_type": "code",
   "execution_count": 54,
   "id": "405c8af3",
   "metadata": {},
   "outputs": [
    {
     "name": "stdout",
     "output_type": "stream",
     "text": [
      "\n",
      "     RDKit          2D\n",
      "\n",
      " 11 11  0  0  0  0  0  0  0  0999 V2000\n",
      "    5.2500   -1.2990    0.0000 C   0  0  0  0  0  0  0  0  0  0  0  0\n",
      "    3.7500   -1.2990    0.0000 C   0  0  0  0  0  0  0  0  0  0  0  0\n",
      "    3.0000   -2.5981    0.0000 O   0  0  0  0  0  0  0  0  0  0  0  0\n",
      "    3.0000    0.0000    0.0000 N   0  0  0  0  0  0  0  0  0  0  0  0\n",
      "    1.5000    0.0000    0.0000 C   0  0  0  0  0  0  0  0  0  0  0  0\n",
      "    0.7500   -1.2990    0.0000 C   0  0  0  0  0  0  0  0  0  0  0  0\n",
      "   -0.7500   -1.2990    0.0000 C   0  0  0  0  0  0  0  0  0  0  0  0\n",
      "   -1.5000    0.0000    0.0000 C   0  0  0  0  0  0  0  0  0  0  0  0\n",
      "   -0.7500    1.2990    0.0000 C   0  0  0  0  0  0  0  0  0  0  0  0\n",
      "    0.7500    1.2990    0.0000 C   0  0  0  0  0  0  0  0  0  0  0  0\n",
      "   -3.0000    0.0000    0.0000 O   0  0  0  0  0  0  0  0  0  0  0  0\n",
      "  1  2  1  0\n",
      "  2  3  2  0\n",
      "  2  4  1  0\n",
      "  4  5  1  0\n",
      "  5  6  2  0\n",
      "  6  7  1  0\n",
      "  7  8  2  0\n",
      "  8  9  1  0\n",
      "  9 10  2  0\n",
      "  8 11  1  0\n",
      " 10  5  1  0\n",
      "M  END\n",
      "\n"
     ]
    }
   ],
   "source": [
    "print(Chem.MolToMolBlock(mol3)) "
   ]
  },
  {
   "cell_type": "code",
   "execution_count": 57,
   "id": "6e339b99",
   "metadata": {},
   "outputs": [
    {
     "data": {
      "image/svg+xml": [
       "<svg baseProfile=\"full\" height=\"200px\" version=\"1.1\" viewBox=\"0 0 600 200\" width=\"600px\" xml:space=\"preserve\" xmlns=\"http://www.w3.org/2000/svg\" xmlns:rdkit=\"http://www.rdkit.org/xml\" xmlns:xlink=\"http://www.w3.org/1999/xlink\">\n",
       "<!-- END OF HEADER -->\n",
       "<rect height=\"200\" style=\"opacity:1.0;fill:#FFFFFF;stroke:none\" width=\"600\" x=\"0\" y=\"0\"> </rect>\n",
       "<rect height=\"200\" style=\"opacity:1.0;fill:#FFFFFF;stroke:none\" width=\"600\" x=\"0\" y=\"0\"> </rect>\n",
       "<rect height=\"200\" style=\"opacity:1.0;fill:#FFFFFF;stroke:none\" width=\"600\" x=\"0\" y=\"0\"> </rect>\n",
       "<rect height=\"200\" style=\"opacity:1.0;fill:#FFFFFF;stroke:none\" width=\"600\" x=\"0\" y=\"0\"> </rect>\n",
       "<path class=\"bond-0\" d=\"M 122.982,96.1725 L 112.639,114.088\" style=\"fill:none;fill-rule:evenodd;stroke:#000000;stroke-width:2.0px;stroke-linecap:butt;stroke-linejoin:miter;stroke-opacity:1\"/>\n",
       "<path class=\"bond-0\" d=\"M 117.848,96.7911 L 110.607,109.332\" style=\"fill:none;fill-rule:evenodd;stroke:#000000;stroke-width:2.0px;stroke-linecap:butt;stroke-linejoin:miter;stroke-opacity:1\"/>\n",
       "<path class=\"bond-5\" d=\"M 122.982,96.1725 L 112.639,78.2567\" style=\"fill:none;fill-rule:evenodd;stroke:#000000;stroke-width:2.0px;stroke-linecap:butt;stroke-linejoin:miter;stroke-opacity:1\"/>\n",
       "<path class=\"bond-1\" d=\"M 112.639,114.088 L 91.9512,114.088\" style=\"fill:none;fill-rule:evenodd;stroke:#000000;stroke-width:2.0px;stroke-linecap:butt;stroke-linejoin:miter;stroke-opacity:1\"/>\n",
       "<path class=\"bond-2\" d=\"M 91.9512,114.088 L 81.6075,96.1725\" style=\"fill:none;fill-rule:evenodd;stroke:#000000;stroke-width:2.0px;stroke-linecap:butt;stroke-linejoin:miter;stroke-opacity:1\"/>\n",
       "<path class=\"bond-2\" d=\"M 93.9828,109.332 L 86.7422,96.7911\" style=\"fill:none;fill-rule:evenodd;stroke:#000000;stroke-width:2.0px;stroke-linecap:butt;stroke-linejoin:miter;stroke-opacity:1\"/>\n",
       "<path class=\"bond-3\" d=\"M 81.6075,96.1725 L 91.9512,78.2567\" style=\"fill:none;fill-rule:evenodd;stroke:#000000;stroke-width:2.0px;stroke-linecap:butt;stroke-linejoin:miter;stroke-opacity:1\"/>\n",
       "<path class=\"bond-4\" d=\"M 91.9512,78.2567 L 112.639,78.2567\" style=\"fill:none;fill-rule:evenodd;stroke:#000000;stroke-width:2.0px;stroke-linecap:butt;stroke-linejoin:miter;stroke-opacity:1\"/>\n",
       "<path class=\"bond-4\" d=\"M 95.0543,82.3941 L 109.535,82.3941\" style=\"fill:none;fill-rule:evenodd;stroke:#000000;stroke-width:2.0px;stroke-linecap:butt;stroke-linejoin:miter;stroke-opacity:1\"/>\n",
       "<path class=\"bond-0\" d=\"M 349.621,134.516 L 336.611,118.431\" style=\"fill:none;fill-rule:evenodd;stroke:#000000;stroke-width:2.0px;stroke-linecap:butt;stroke-linejoin:miter;stroke-opacity:1\"/>\n",
       "<path class=\"bond-1\" d=\"M 336.611,118.431 L 318.885,107.766\" style=\"fill:none;fill-rule:evenodd;stroke:#000000;stroke-width:2.0px;stroke-linecap:butt;stroke-linejoin:miter;stroke-opacity:1\"/>\n",
       "<path class=\"bond-30\" d=\"M 336.611,118.431 L 331.335,124.494\" style=\"fill:none;fill-rule:evenodd;stroke:#000000;stroke-width:2.0px;stroke-linecap:butt;stroke-linejoin:miter;stroke-opacity:1\"/>\n",
       "<path class=\"bond-30\" d=\"M 331.335,124.494 L 326.058,130.557\" style=\"fill:none;fill-rule:evenodd;stroke:#FF0000;stroke-width:2.0px;stroke-linecap:butt;stroke-linejoin:miter;stroke-opacity:1\"/>\n",
       "<path class=\"bond-31\" d=\"M 336.611,118.431 L 354.71,108.412\" style=\"fill:none;fill-rule:evenodd;stroke:#000000;stroke-width:2.0px;stroke-linecap:butt;stroke-linejoin:miter;stroke-opacity:1\"/>\n",
       "<path class=\"bond-2\" d=\"M 318.885,107.766 L 300.785,117.785\" style=\"fill:none;fill-rule:evenodd;stroke:#000000;stroke-width:2.0px;stroke-linecap:butt;stroke-linejoin:miter;stroke-opacity:1\"/>\n",
       "<path class=\"bond-32\" d=\"M 318.885,107.766 L 319.258,87.0821\" style=\"fill:none;fill-rule:evenodd;stroke:#000000;stroke-width:2.0px;stroke-linecap:butt;stroke-linejoin:miter;stroke-opacity:1\"/>\n",
       "<path class=\"bond-3\" d=\"M 300.785,117.785 L 283.059,107.12\" style=\"fill:none;fill-rule:evenodd;stroke:#000000;stroke-width:2.0px;stroke-linecap:butt;stroke-linejoin:miter;stroke-opacity:1\"/>\n",
       "<path class=\"bond-4\" d=\"M 283.059,107.12 L 264.96,117.139\" style=\"fill:none;fill-rule:evenodd;stroke:#000000;stroke-width:2.0px;stroke-linecap:butt;stroke-linejoin:miter;stroke-opacity:1\"/>\n",
       "<path class=\"bond-33\" d=\"M 283.059,107.12 L 283.432,86.4361\" style=\"fill:none;fill-rule:evenodd;stroke:#000000;stroke-width:2.0px;stroke-linecap:butt;stroke-linejoin:miter;stroke-opacity:1\"/>\n",
       "<path class=\"bond-5\" d=\"M 264.96,117.139 L 247.233,106.474\" style=\"fill:none;fill-rule:evenodd;stroke:#000000;stroke-width:2.0px;stroke-linecap:butt;stroke-linejoin:miter;stroke-opacity:1\"/>\n",
       "<path class=\"bond-27\" d=\"M 264.96,117.139 L 264.804,125.758\" style=\"fill:none;fill-rule:evenodd;stroke:#000000;stroke-width:2.0px;stroke-linecap:butt;stroke-linejoin:miter;stroke-opacity:1\"/>\n",
       "<path class=\"bond-27\" d=\"M 264.804,125.758 L 264.649,134.377\" style=\"fill:none;fill-rule:evenodd;stroke:#0000FF;stroke-width:2.0px;stroke-linecap:butt;stroke-linejoin:miter;stroke-opacity:1\"/>\n",
       "<path class=\"bond-6\" d=\"M 246.231,104.664 L 238.785,108.786\" style=\"fill:none;fill-rule:evenodd;stroke:#000000;stroke-width:2.0px;stroke-linecap:butt;stroke-linejoin:miter;stroke-opacity:1\"/>\n",
       "<path class=\"bond-6\" d=\"M 238.785,108.786 L 231.338,112.908\" style=\"fill:none;fill-rule:evenodd;stroke:#FF0000;stroke-width:2.0px;stroke-linecap:butt;stroke-linejoin:miter;stroke-opacity:1\"/>\n",
       "<path class=\"bond-6\" d=\"M 248.235,108.284 L 240.789,112.406\" style=\"fill:none;fill-rule:evenodd;stroke:#000000;stroke-width:2.0px;stroke-linecap:butt;stroke-linejoin:miter;stroke-opacity:1\"/>\n",
       "<path class=\"bond-6\" d=\"M 240.789,112.406 L 233.342,116.528\" style=\"fill:none;fill-rule:evenodd;stroke:#FF0000;stroke-width:2.0px;stroke-linecap:butt;stroke-linejoin:miter;stroke-opacity:1\"/>\n",
       "<path class=\"bond-7\" d=\"M 247.233,106.474 L 247.606,85.7902\" style=\"fill:none;fill-rule:evenodd;stroke:#000000;stroke-width:2.0px;stroke-linecap:butt;stroke-linejoin:miter;stroke-opacity:1\"/>\n",
       "<path class=\"bond-8\" d=\"M 247.606,85.7902 L 265.705,75.7711\" style=\"fill:none;fill-rule:evenodd;stroke:#000000;stroke-width:2.0px;stroke-linecap:butt;stroke-linejoin:miter;stroke-opacity:1\"/>\n",
       "<path class=\"bond-8\" d=\"M 252.325,87.9072 L 264.994,80.8939\" style=\"fill:none;fill-rule:evenodd;stroke:#000000;stroke-width:2.0px;stroke-linecap:butt;stroke-linejoin:miter;stroke-opacity:1\"/>\n",
       "<path class=\"bond-24\" d=\"M 247.606,85.7902 L 229.88,75.1252\" style=\"fill:none;fill-rule:evenodd;stroke:#000000;stroke-width:2.0px;stroke-linecap:butt;stroke-linejoin:miter;stroke-opacity:1\"/>\n",
       "<path class=\"bond-9\" d=\"M 265.705,75.7711 L 283.432,86.4361\" style=\"fill:none;fill-rule:evenodd;stroke:#000000;stroke-width:2.0px;stroke-linecap:butt;stroke-linejoin:miter;stroke-opacity:1\"/>\n",
       "<path class=\"bond-23\" d=\"M 265.705,75.7711 L 265.86,67.2144\" style=\"fill:none;fill-rule:evenodd;stroke:#000000;stroke-width:2.0px;stroke-linecap:butt;stroke-linejoin:miter;stroke-opacity:1\"/>\n",
       "<path class=\"bond-23\" d=\"M 265.86,67.2144 L 266.014,58.6578\" style=\"fill:none;fill-rule:evenodd;stroke:#FF0000;stroke-width:2.0px;stroke-linecap:butt;stroke-linejoin:miter;stroke-opacity:1\"/>\n",
       "<path class=\"bond-10\" d=\"M 283.432,86.4361 L 301.531,76.4171\" style=\"fill:none;fill-rule:evenodd;stroke:#000000;stroke-width:2.0px;stroke-linecap:butt;stroke-linejoin:miter;stroke-opacity:1\"/>\n",
       "<path class=\"bond-22\" d=\"M 283.432,86.4361 L 283.586,77.8794\" style=\"fill:none;fill-rule:evenodd;stroke:#000000;stroke-width:2.0px;stroke-linecap:butt;stroke-linejoin:miter;stroke-opacity:1\"/>\n",
       "<path class=\"bond-22\" d=\"M 283.586,77.8794 L 283.74,69.3227\" style=\"fill:none;fill-rule:evenodd;stroke:#FF0000;stroke-width:2.0px;stroke-linecap:butt;stroke-linejoin:miter;stroke-opacity:1\"/>\n",
       "<path class=\"bond-11\" d=\"M 303.6,76.4544 L 303.754,67.8977\" style=\"fill:none;fill-rule:evenodd;stroke:#000000;stroke-width:2.0px;stroke-linecap:butt;stroke-linejoin:miter;stroke-opacity:1\"/>\n",
       "<path class=\"bond-11\" d=\"M 303.754,67.8977 L 303.908,59.341\" style=\"fill:none;fill-rule:evenodd;stroke:#FF0000;stroke-width:2.0px;stroke-linecap:butt;stroke-linejoin:miter;stroke-opacity:1\"/>\n",
       "<path class=\"bond-11\" d=\"M 299.463,76.3798 L 299.617,67.8231\" style=\"fill:none;fill-rule:evenodd;stroke:#000000;stroke-width:2.0px;stroke-linecap:butt;stroke-linejoin:miter;stroke-opacity:1\"/>\n",
       "<path class=\"bond-11\" d=\"M 299.617,67.8231 L 299.771,59.2664\" style=\"fill:none;fill-rule:evenodd;stroke:#FF0000;stroke-width:2.0px;stroke-linecap:butt;stroke-linejoin:miter;stroke-opacity:1\"/>\n",
       "<path class=\"bond-12\" d=\"M 301.531,76.4171 L 319.258,87.0821\" style=\"fill:none;fill-rule:evenodd;stroke:#000000;stroke-width:2.0px;stroke-linecap:butt;stroke-linejoin:miter;stroke-opacity:1\"/>\n",
       "<path class=\"bond-13\" d=\"M 319.258,87.0821 L 337.357,77.063\" style=\"fill:none;fill-rule:evenodd;stroke:#000000;stroke-width:2.0px;stroke-linecap:butt;stroke-linejoin:miter;stroke-opacity:1\"/>\n",
       "<path class=\"bond-13\" d=\"M 323.976,89.1991 L 336.646,82.1858\" style=\"fill:none;fill-rule:evenodd;stroke:#000000;stroke-width:2.0px;stroke-linecap:butt;stroke-linejoin:miter;stroke-opacity:1\"/>\n",
       "<path class=\"bond-14\" d=\"M 337.357,77.063 L 355.083,87.728\" style=\"fill:none;fill-rule:evenodd;stroke:#000000;stroke-width:2.0px;stroke-linecap:butt;stroke-linejoin:miter;stroke-opacity:1\"/>\n",
       "<path class=\"bond-21\" d=\"M 337.357,77.063 L 337.511,68.5063\" style=\"fill:none;fill-rule:evenodd;stroke:#000000;stroke-width:2.0px;stroke-linecap:butt;stroke-linejoin:miter;stroke-opacity:1\"/>\n",
       "<path class=\"bond-21\" d=\"M 337.511,68.5063 L 337.665,59.9497\" style=\"fill:none;fill-rule:evenodd;stroke:#FF0000;stroke-width:2.0px;stroke-linecap:butt;stroke-linejoin:miter;stroke-opacity:1\"/>\n",
       "<path class=\"bond-15\" d=\"M 355.083,87.728 L 354.71,108.412\" style=\"fill:none;fill-rule:evenodd;stroke:#000000;stroke-width:2.0px;stroke-linecap:butt;stroke-linejoin:miter;stroke-opacity:1\"/>\n",
       "<path class=\"bond-15\" d=\"M 359.164,90.9052 L 358.903,105.384\" style=\"fill:none;fill-rule:evenodd;stroke:#000000;stroke-width:2.0px;stroke-linecap:butt;stroke-linejoin:miter;stroke-opacity:1\"/>\n",
       "<path class=\"bond-34\" d=\"M 355.083,87.728 L 373.183,77.709\" style=\"fill:none;fill-rule:evenodd;stroke:#000000;stroke-width:2.0px;stroke-linecap:butt;stroke-linejoin:miter;stroke-opacity:1\"/>\n",
       "<path class=\"bond-16\" d=\"M 354.71,108.412 L 372.437,119.077\" style=\"fill:none;fill-rule:evenodd;stroke:#000000;stroke-width:2.0px;stroke-linecap:butt;stroke-linejoin:miter;stroke-opacity:1\"/>\n",
       "<path class=\"bond-17\" d=\"M 372.437,119.077 L 390.536,109.058\" style=\"fill:none;fill-rule:evenodd;stroke:#000000;stroke-width:2.0px;stroke-linecap:butt;stroke-linejoin:miter;stroke-opacity:1\"/>\n",
       "<path class=\"bond-17\" d=\"M 373.148,113.954 L 385.817,106.941\" style=\"fill:none;fill-rule:evenodd;stroke:#000000;stroke-width:2.0px;stroke-linecap:butt;stroke-linejoin:miter;stroke-opacity:1\"/>\n",
       "<path class=\"bond-18\" d=\"M 390.536,109.058 L 390.909,88.374\" style=\"fill:none;fill-rule:evenodd;stroke:#000000;stroke-width:2.0px;stroke-linecap:butt;stroke-linejoin:miter;stroke-opacity:1\"/>\n",
       "<path class=\"bond-19\" d=\"M 390.909,88.374 L 373.183,77.709\" style=\"fill:none;fill-rule:evenodd;stroke:#000000;stroke-width:2.0px;stroke-linecap:butt;stroke-linejoin:miter;stroke-opacity:1\"/>\n",
       "<path class=\"bond-19\" d=\"M 386.117,90.3195 L 373.709,82.854\" style=\"fill:none;fill-rule:evenodd;stroke:#000000;stroke-width:2.0px;stroke-linecap:butt;stroke-linejoin:miter;stroke-opacity:1\"/>\n",
       "<path class=\"bond-20\" d=\"M 373.183,77.709 L 373.337,69.1523\" style=\"fill:none;fill-rule:evenodd;stroke:#000000;stroke-width:2.0px;stroke-linecap:butt;stroke-linejoin:miter;stroke-opacity:1\"/>\n",
       "<path class=\"bond-20\" d=\"M 373.337,69.1523 L 373.491,60.5956\" style=\"fill:none;fill-rule:evenodd;stroke:#FF0000;stroke-width:2.0px;stroke-linecap:butt;stroke-linejoin:miter;stroke-opacity:1\"/>\n",
       "<path class=\"bond-25\" d=\"M 228.878,73.3153 L 221.431,77.4373\" style=\"fill:none;fill-rule:evenodd;stroke:#000000;stroke-width:2.0px;stroke-linecap:butt;stroke-linejoin:miter;stroke-opacity:1\"/>\n",
       "<path class=\"bond-25\" d=\"M 221.431,77.4373 L 213.985,81.5593\" style=\"fill:none;fill-rule:evenodd;stroke:#FF0000;stroke-width:2.0px;stroke-linecap:butt;stroke-linejoin:miter;stroke-opacity:1\"/>\n",
       "<path class=\"bond-25\" d=\"M 230.882,76.9351 L 223.435,81.0571\" style=\"fill:none;fill-rule:evenodd;stroke:#000000;stroke-width:2.0px;stroke-linecap:butt;stroke-linejoin:miter;stroke-opacity:1\"/>\n",
       "<path class=\"bond-25\" d=\"M 223.435,81.0571 L 215.989,85.1792\" style=\"fill:none;fill-rule:evenodd;stroke:#FF0000;stroke-width:2.0px;stroke-linecap:butt;stroke-linejoin:miter;stroke-opacity:1\"/>\n",
       "<path class=\"bond-26\" d=\"M 229.88,75.1252 L 230.035,66.5064\" style=\"fill:none;fill-rule:evenodd;stroke:#000000;stroke-width:2.0px;stroke-linecap:butt;stroke-linejoin:miter;stroke-opacity:1\"/>\n",
       "<path class=\"bond-26\" d=\"M 230.035,66.5064 L 230.19,57.8877\" style=\"fill:none;fill-rule:evenodd;stroke:#0000FF;stroke-width:2.0px;stroke-linecap:butt;stroke-linejoin:miter;stroke-opacity:1\"/>\n",
       "<path class=\"bond-28\" d=\"M 261.848,139.339 L 254.167,143.591\" style=\"fill:none;fill-rule:evenodd;stroke:#0000FF;stroke-width:2.0px;stroke-linecap:butt;stroke-linejoin:miter;stroke-opacity:1\"/>\n",
       "<path class=\"bond-28\" d=\"M 254.167,143.591 L 246.487,147.842\" style=\"fill:none;fill-rule:evenodd;stroke:#000000;stroke-width:2.0px;stroke-linecap:butt;stroke-linejoin:miter;stroke-opacity:1\"/>\n",
       "<path class=\"bond-29\" d=\"M 267.326,139.471 L 274.819,143.98\" style=\"fill:none;fill-rule:evenodd;stroke:#0000FF;stroke-width:2.0px;stroke-linecap:butt;stroke-linejoin:miter;stroke-opacity:1\"/>\n",
       "<path class=\"bond-29\" d=\"M 274.819,143.98 L 282.313,148.488\" style=\"fill:none;fill-rule:evenodd;stroke:#000000;stroke-width:2.0px;stroke-linecap:butt;stroke-linejoin:miter;stroke-opacity:1\"/>\n",
       "<path class=\"atom-7\" d=\"M 226.444 116.51 Q 226.444 115.103, 227.139 114.317 Q 227.835 113.531, 229.134 113.531 Q 230.433 113.531, 231.128 114.317 Q 231.823 115.103, 231.823 116.51 Q 231.823 117.933, 231.12 118.744 Q 230.416 119.547, 229.134 119.547 Q 227.843 119.547, 227.139 118.744 Q 226.444 117.941, 226.444 116.51 M 229.134 118.885 Q 230.027 118.885, 230.507 118.289 Q 230.996 117.685, 230.996 116.51 Q 230.996 115.36, 230.507 114.78 Q 230.027 114.193, 229.134 114.193 Q 228.24 114.193, 227.752 114.772 Q 227.272 115.351, 227.272 116.51 Q 227.272 117.693, 227.752 118.289 Q 228.24 118.885, 229.134 118.885 \" fill=\"#FF0000\"/>\n",
       "<path class=\"atom-12\" d=\"M 299.215 55.7496 Q 299.215 54.3429, 299.91 53.5568 Q 300.605 52.7706, 301.904 52.7706 Q 303.203 52.7706, 303.898 53.5568 Q 304.593 54.3429, 304.593 55.7496 Q 304.593 57.1729, 303.89 57.9839 Q 303.187 58.7865, 301.904 58.7865 Q 300.613 58.7865, 299.91 57.9839 Q 299.215 57.1812, 299.215 55.7496 M 301.904 58.1245 Q 302.798 58.1245, 303.278 57.5287 Q 303.766 56.9247, 303.766 55.7496 Q 303.766 54.5994, 303.278 54.0202 Q 302.798 53.4326, 301.904 53.4326 Q 301.01 53.4326, 300.522 54.0119 Q 300.042 54.5911, 300.042 55.7496 Q 300.042 56.9329, 300.522 57.5287 Q 301.01 58.1245, 301.904 58.1245 \" fill=\"#FF0000\"/>\n",
       "<path class=\"atom-21\" d=\"M 370.866 57.0415 Q 370.866 55.6348, 371.561 54.8486 Q 372.256 54.0625, 373.556 54.0625 Q 374.855 54.0625, 375.55 54.8486 Q 376.245 55.6348, 376.245 57.0415 Q 376.245 58.4648, 375.542 59.2757 Q 374.838 60.0784, 373.556 60.0784 Q 372.265 60.0784, 371.561 59.2757 Q 370.866 58.4731, 370.866 57.0415 M 373.556 59.4164 Q 374.449 59.4164, 374.929 58.8206 Q 375.417 58.2165, 375.417 57.0415 Q 375.417 55.8913, 374.929 55.312 Q 374.449 54.7245, 373.556 54.7245 Q 372.662 54.7245, 372.174 55.3038 Q 371.694 55.883, 371.694 57.0415 Q 371.694 58.2248, 372.174 58.8206 Q 372.662 59.4164, 373.556 59.4164 \" fill=\"#FF0000\"/>\n",
       "<path class=\"atom-21\" d=\"M 376.948 54.1287 L 377.743 54.1287 L 377.743 56.6195 L 380.738 56.6195 L 380.738 54.1287 L 381.533 54.1287 L 381.533 59.9874 L 380.738 59.9874 L 380.738 57.2815 L 377.743 57.2815 L 377.743 59.9874 L 376.948 59.9874 L 376.948 54.1287 \" fill=\"#FF0000\"/>\n",
       "<path class=\"atom-22\" d=\"M 335.04 56.3956 Q 335.04 54.9888, 335.736 54.2027 Q 336.431 53.4166, 337.73 53.4166 Q 339.029 53.4166, 339.724 54.2027 Q 340.419 54.9888, 340.419 56.3956 Q 340.419 57.8189, 339.716 58.6298 Q 339.012 59.4325, 337.73 59.4325 Q 336.439 59.4325, 335.736 58.6298 Q 335.04 57.8271, 335.04 56.3956 M 337.73 58.7705 Q 338.624 58.7705, 339.103 58.1747 Q 339.592 57.5706, 339.592 56.3956 Q 339.592 55.2453, 339.103 54.6661 Q 338.624 54.0786, 337.73 54.0786 Q 336.836 54.0786, 336.348 54.6578 Q 335.868 55.2371, 335.868 56.3956 Q 335.868 57.5789, 336.348 58.1747 Q 336.836 58.7705, 337.73 58.7705 \" fill=\"#FF0000\"/>\n",
       "<path class=\"atom-22\" d=\"M 341.123 53.4828 L 341.917 53.4828 L 341.917 55.9735 L 344.913 55.9735 L 344.913 53.4828 L 345.707 53.4828 L 345.707 59.3414 L 344.913 59.3414 L 344.913 56.6355 L 341.917 56.6355 L 341.917 59.3414 L 341.123 59.3414 L 341.123 53.4828 \" fill=\"#FF0000\"/>\n",
       "<path class=\"atom-23\" d=\"M 281.115 65.7686 Q 281.115 64.3619, 281.81 63.5758 Q 282.506 62.7897, 283.805 62.7897 Q 285.104 62.7897, 285.799 63.5758 Q 286.494 64.3619, 286.494 65.7686 Q 286.494 67.1919, 285.791 68.0029 Q 285.087 68.8056, 283.805 68.8056 Q 282.514 68.8056, 281.81 68.0029 Q 281.115 67.2002, 281.115 65.7686 M 283.805 68.1436 Q 284.698 68.1436, 285.178 67.5478 Q 285.667 66.9437, 285.667 65.7686 Q 285.667 64.6184, 285.178 64.0392 Q 284.698 63.4517, 283.805 63.4517 Q 282.911 63.4517, 282.423 64.0309 Q 281.943 64.6102, 281.943 65.7686 Q 281.943 66.952, 282.423 67.5478 Q 282.911 68.1436, 283.805 68.1436 \" fill=\"#FF0000\"/>\n",
       "<path class=\"atom-23\" d=\"M 287.197 62.8559 L 287.992 62.8559 L 287.992 65.3466 L 290.987 65.3466 L 290.987 62.8559 L 291.782 62.8559 L 291.782 68.7145 L 290.987 68.7145 L 290.987 66.0086 L 287.992 66.0086 L 287.992 68.7145 L 287.197 68.7145 L 287.197 62.8559 \" fill=\"#FF0000\"/>\n",
       "<path class=\"atom-24\" d=\"M 263.389 55.1037 Q 263.389 53.6969, 264.084 52.9108 Q 264.779 52.1247, 266.078 52.1247 Q 267.377 52.1247, 268.073 52.9108 Q 268.768 53.6969, 268.768 55.1037 Q 268.768 56.527, 268.064 57.3379 Q 267.361 58.1406, 266.078 58.1406 Q 264.787 58.1406, 264.084 57.3379 Q 263.389 56.5352, 263.389 55.1037 M 266.078 57.4786 Q 266.972 57.4786, 267.452 56.8828 Q 267.94 56.2787, 267.94 55.1037 Q 267.94 53.9535, 267.452 53.3742 Q 266.972 52.7867, 266.078 52.7867 Q 265.185 52.7867, 264.696 53.3659 Q 264.216 53.9452, 264.216 55.1037 Q 264.216 56.287, 264.696 56.8828 Q 265.185 57.4786, 266.078 57.4786 \" fill=\"#FF0000\"/>\n",
       "<path class=\"atom-24\" d=\"M 269.471 52.1909 L 270.265 52.1909 L 270.265 54.6816 L 273.261 54.6816 L 273.261 52.1909 L 274.055 52.1909 L 274.055 58.0496 L 273.261 58.0496 L 273.261 55.3436 L 270.265 55.3436 L 270.265 58.0496 L 269.471 58.0496 L 269.471 52.1909 \" fill=\"#FF0000\"/>\n",
       "<path class=\"atom-26\" d=\"M 209.091 85.1608 Q 209.091 83.754, 209.786 82.9679 Q 210.481 82.1818, 211.78 82.1818 Q 213.079 82.1818, 213.775 82.9679 Q 214.47 83.754, 214.47 85.1608 Q 214.47 86.5841, 213.766 87.395 Q 213.063 88.1977, 211.78 88.1977 Q 210.489 88.1977, 209.786 87.395 Q 209.091 86.5923, 209.091 85.1608 M 211.78 87.5357 Q 212.674 87.5357, 213.154 86.9399 Q 213.642 86.3358, 213.642 85.1608 Q 213.642 84.0106, 213.154 83.4313 Q 212.674 82.8438, 211.78 82.8438 Q 210.887 82.8438, 210.398 83.423 Q 209.918 84.0023, 209.918 85.1608 Q 209.918 86.3441, 210.398 86.9399 Q 210.887 87.5357, 211.78 87.5357 \" fill=\"#FF0000\"/>\n",
       "<path class=\"atom-27\" d=\"M 228.958 51.5118 L 230.877 54.6149 Q 231.068 54.9211, 231.374 55.4755 Q 231.68 56.03, 231.697 56.0631 L 231.697 51.5118 L 232.474 51.5118 L 232.474 57.3705 L 231.672 57.3705 L 229.611 53.9778 Q 229.371 53.5806, 229.115 53.1255 Q 228.867 52.6703, 228.792 52.5297 L 228.792 57.3705 L 228.031 57.3705 L 228.031 51.5118 L 228.958 51.5118 \" fill=\"#0000FF\"/>\n",
       "<path class=\"atom-27\" d=\"M 233.178 51.5118 L 233.972 51.5118 L 233.972 54.0026 L 236.968 54.0026 L 236.968 51.5118 L 237.762 51.5118 L 237.762 57.3705 L 236.968 57.3705 L 236.968 54.6646 L 233.972 54.6646 L 233.972 57.3705 L 233.178 57.3705 L 233.178 51.5118 \" fill=\"#0000FF\"/>\n",
       "<path class=\"atom-27\" d=\"M 238.046 57.165 Q 238.188 56.799, 238.527 56.597 Q 238.865 56.3894, 239.335 56.3894 Q 239.919 56.3894, 240.247 56.7062 Q 240.575 57.023, 240.575 57.5855 Q 240.575 58.1589, 240.149 58.6942 Q 239.728 59.2294, 238.854 59.8629 L 240.64 59.8629 L 240.64 60.2998 L 238.035 60.2998 L 238.035 59.9339 Q 238.756 59.4205, 239.182 59.0382 Q 239.614 58.6559, 239.821 58.3119 Q 240.029 57.9678, 240.029 57.6128 Q 240.029 57.2414, 239.843 57.0339 Q 239.657 56.8263, 239.335 56.8263 Q 239.024 56.8263, 238.816 56.952 Q 238.609 57.0776, 238.461 57.3561 L 238.046 57.165 \" fill=\"#0000FF\"/>\n",
       "<path class=\"atom-28\" d=\"M 263.292 134.894 L 265.211 137.997 Q 265.402 138.303, 265.708 138.858 Q 266.014 139.412, 266.031 139.445 L 266.031 134.894 L 266.808 134.894 L 266.808 140.753 L 266.006 140.753 L 263.945 137.36 Q 263.705 136.963, 263.449 136.507 Q 263.201 136.052, 263.126 135.912 L 263.126 140.753 L 262.365 140.753 L 262.365 134.894 L 263.292 134.894 \" fill=\"#0000FF\"/>\n",
       "<path class=\"atom-31\" d=\"M 315.342 131.14 L 316.137 131.14 L 316.137 133.631 L 319.132 133.631 L 319.132 131.14 L 319.927 131.14 L 319.927 136.999 L 319.132 136.999 L 319.132 134.293 L 316.137 134.293 L 316.137 136.999 L 315.342 136.999 L 315.342 131.14 \" fill=\"#FF0000\"/>\n",
       "<path class=\"atom-31\" d=\"M 320.341 134.053 Q 320.341 132.646, 321.036 131.86 Q 321.731 131.074, 323.03 131.074 Q 324.329 131.074, 325.024 131.86 Q 325.719 132.646, 325.719 134.053 Q 325.719 135.476, 325.016 136.287 Q 324.313 137.09, 323.03 137.09 Q 321.739 137.09, 321.036 136.287 Q 320.341 135.484, 320.341 134.053 M 323.03 136.428 Q 323.924 136.428, 324.404 135.832 Q 324.892 135.228, 324.892 134.053 Q 324.892 132.903, 324.404 132.323 Q 323.924 131.736, 323.03 131.736 Q 322.136 131.736, 321.648 132.315 Q 321.168 132.894, 321.168 134.053 Q 321.168 135.236, 321.648 135.832 Q 322.136 136.428, 323.03 136.428 \" fill=\"#FF0000\"/>\n",
       "<path class=\"bond-0\" d=\"M 443.938,100.006 L 463.921,94.6517\" style=\"fill:none;fill-rule:evenodd;stroke:#000000;stroke-width:2.0px;stroke-linecap:butt;stroke-linejoin:miter;stroke-opacity:1\"/>\n",
       "<path class=\"bond-1\" d=\"M 465.919,95.1871 L 468.118,86.9812\" style=\"fill:none;fill-rule:evenodd;stroke:#000000;stroke-width:2.0px;stroke-linecap:butt;stroke-linejoin:miter;stroke-opacity:1\"/>\n",
       "<path class=\"bond-1\" d=\"M 468.118,86.9812 L 470.316,78.7753\" style=\"fill:none;fill-rule:evenodd;stroke:#FF0000;stroke-width:2.0px;stroke-linecap:butt;stroke-linejoin:miter;stroke-opacity:1\"/>\n",
       "<path class=\"bond-1\" d=\"M 461.922,94.1162 L 464.121,85.9103\" style=\"fill:none;fill-rule:evenodd;stroke:#000000;stroke-width:2.0px;stroke-linecap:butt;stroke-linejoin:miter;stroke-opacity:1\"/>\n",
       "<path class=\"bond-1\" d=\"M 464.121,85.9103 L 466.32,77.7044\" style=\"fill:none;fill-rule:evenodd;stroke:#FF0000;stroke-width:2.0px;stroke-linecap:butt;stroke-linejoin:miter;stroke-opacity:1\"/>\n",
       "<path class=\"bond-2\" d=\"M 463.921,94.6517 L 469.865,100.596\" style=\"fill:none;fill-rule:evenodd;stroke:#000000;stroke-width:2.0px;stroke-linecap:butt;stroke-linejoin:miter;stroke-opacity:1\"/>\n",
       "<path class=\"bond-2\" d=\"M 469.865,100.596 L 475.81,106.541\" style=\"fill:none;fill-rule:evenodd;stroke:#0000FF;stroke-width:2.0px;stroke-linecap:butt;stroke-linejoin:miter;stroke-opacity:1\"/>\n",
       "<path class=\"bond-3\" d=\"M 481.288,108.546 L 489.91,106.236\" style=\"fill:none;fill-rule:evenodd;stroke:#0000FF;stroke-width:2.0px;stroke-linecap:butt;stroke-linejoin:miter;stroke-opacity:1\"/>\n",
       "<path class=\"bond-3\" d=\"M 489.91,106.236 L 498.531,103.926\" style=\"fill:none;fill-rule:evenodd;stroke:#000000;stroke-width:2.0px;stroke-linecap:butt;stroke-linejoin:miter;stroke-opacity:1\"/>\n",
       "<path class=\"bond-4\" d=\"M 498.531,103.926 L 503.886,83.9431\" style=\"fill:none;fill-rule:evenodd;stroke:#000000;stroke-width:2.0px;stroke-linecap:butt;stroke-linejoin:miter;stroke-opacity:1\"/>\n",
       "<path class=\"bond-4\" d=\"M 503.331,101.999 L 507.079,88.0113\" style=\"fill:none;fill-rule:evenodd;stroke:#000000;stroke-width:2.0px;stroke-linecap:butt;stroke-linejoin:miter;stroke-opacity:1\"/>\n",
       "<path class=\"bond-10\" d=\"M 498.531,103.926 L 513.159,118.554\" style=\"fill:none;fill-rule:evenodd;stroke:#000000;stroke-width:2.0px;stroke-linecap:butt;stroke-linejoin:miter;stroke-opacity:1\"/>\n",
       "<path class=\"bond-5\" d=\"M 503.886,83.9431 L 523.868,78.5888\" style=\"fill:none;fill-rule:evenodd;stroke:#000000;stroke-width:2.0px;stroke-linecap:butt;stroke-linejoin:miter;stroke-opacity:1\"/>\n",
       "<path class=\"bond-6\" d=\"M 523.868,78.5888 L 538.496,93.217\" style=\"fill:none;fill-rule:evenodd;stroke:#000000;stroke-width:2.0px;stroke-linecap:butt;stroke-linejoin:miter;stroke-opacity:1\"/>\n",
       "<path class=\"bond-6\" d=\"M 523.137,83.7087 L 533.376,93.9484\" style=\"fill:none;fill-rule:evenodd;stroke:#000000;stroke-width:2.0px;stroke-linecap:butt;stroke-linejoin:miter;stroke-opacity:1\"/>\n",
       "<path class=\"bond-7\" d=\"M 538.496,93.217 L 533.142,113.199\" style=\"fill:none;fill-rule:evenodd;stroke:#000000;stroke-width:2.0px;stroke-linecap:butt;stroke-linejoin:miter;stroke-opacity:1\"/>\n",
       "<path class=\"bond-9\" d=\"M 538.496,93.217 L 546.884,90.9694\" style=\"fill:none;fill-rule:evenodd;stroke:#000000;stroke-width:2.0px;stroke-linecap:butt;stroke-linejoin:miter;stroke-opacity:1\"/>\n",
       "<path class=\"bond-9\" d=\"M 546.884,90.9694 L 555.272,88.7219\" style=\"fill:none;fill-rule:evenodd;stroke:#FF0000;stroke-width:2.0px;stroke-linecap:butt;stroke-linejoin:miter;stroke-opacity:1\"/>\n",
       "<path class=\"bond-8\" d=\"M 533.142,113.199 L 513.159,118.554\" style=\"fill:none;fill-rule:evenodd;stroke:#000000;stroke-width:2.0px;stroke-linecap:butt;stroke-linejoin:miter;stroke-opacity:1\"/>\n",
       "<path class=\"bond-8\" d=\"M 529.074,110.006 L 515.086,113.754\" style=\"fill:none;fill-rule:evenodd;stroke:#000000;stroke-width:2.0px;stroke-linecap:butt;stroke-linejoin:miter;stroke-opacity:1\"/>\n",
       "<path class=\"atom-2\" d=\"M 466.586 74.6857 Q 466.586 73.279, 467.281 72.4929 Q 467.976 71.7068, 469.275 71.7068 Q 470.574 71.7068, 471.269 72.4929 Q 471.964 73.279, 471.964 74.6857 Q 471.964 76.109, 471.261 76.92 Q 470.558 77.7227, 469.275 77.7227 Q 467.984 77.7227, 467.281 76.92 Q 466.586 76.1173, 466.586 74.6857 M 469.275 77.0607 Q 470.169 77.0607, 470.649 76.4649 Q 471.137 75.8608, 471.137 74.6857 Q 471.137 73.5355, 470.649 72.9563 Q 470.169 72.3688, 469.275 72.3688 Q 468.381 72.3688, 467.893 72.948 Q 467.413 73.5273, 467.413 74.6857 Q 467.413 75.8691, 467.893 76.4649 Q 468.381 77.0607, 469.275 77.0607 \" fill=\"#FF0000\"/>\n",
       "<path class=\"atom-3\" d=\"M 477.254 106.351 L 479.174 109.454 Q 479.364 109.76, 479.67 110.314 Q 479.976 110.869, 479.993 110.902 L 479.993 106.351 L 480.771 106.351 L 480.771 112.209 L 479.968 112.209 L 477.907 108.816 Q 477.668 108.419, 477.411 107.964 Q 477.163 107.509, 477.088 107.368 L 477.088 112.209 L 476.327 112.209 L 476.327 106.351 L 477.254 106.351 \" fill=\"#0000FF\"/>\n",
       "<path class=\"atom-3\" d=\"M 476.257 112.795 L 477.051 112.795 L 477.051 115.286 L 480.047 115.286 L 480.047 112.795 L 480.841 112.795 L 480.841 118.654 L 480.047 118.654 L 480.047 115.948 L 477.051 115.948 L 477.051 118.654 L 476.257 118.654 L 476.257 112.795 \" fill=\"#0000FF\"/>\n",
       "<path class=\"atom-10\" d=\"M 555.789 87.8793 Q 555.789 86.4725, 556.484 85.6864 Q 557.18 84.9003, 558.479 84.9003 Q 559.778 84.9003, 560.473 85.6864 Q 561.168 86.4725, 561.168 87.8793 Q 561.168 89.3025, 560.465 90.1135 Q 559.761 90.9162, 558.479 90.9162 Q 557.188 90.9162, 556.484 90.1135 Q 555.789 89.3108, 555.789 87.8793 M 558.479 90.2542 Q 559.372 90.2542, 559.852 89.6584 Q 560.341 89.0543, 560.341 87.8793 Q 560.341 86.729, 559.852 86.1498 Q 559.372 85.5623, 558.479 85.5623 Q 557.585 85.5623, 557.097 86.1415 Q 556.617 86.7208, 556.617 87.8793 Q 556.617 89.0626, 557.097 89.6584 Q 557.585 90.2542, 558.479 90.2542 \" fill=\"#FF0000\"/>\n",
       "<path class=\"atom-10\" d=\"M 561.871 84.9665 L 562.666 84.9665 L 562.666 87.4572 L 565.661 87.4572 L 565.661 84.9665 L 566.456 84.9665 L 566.456 90.8251 L 565.661 90.8251 L 565.661 88.1192 L 562.666 88.1192 L 562.666 90.8251 L 561.871 90.8251 L 561.871 84.9665 \" fill=\"#FF0000\"/>\n",
       "</svg>"
      ],
      "text/plain": [
       "<IPython.core.display.SVG object>"
      ]
     },
     "execution_count": 57,
     "metadata": {},
     "output_type": "execute_result"
    }
   ],
   "source": [
    "from rdkit.Chem import Draw #Three different molecules\n",
    "Draw.MolsToGridImage((mol, mol2, mol3), useSVG=True)"
   ]
  },
  {
   "cell_type": "code",
   "execution_count": 65,
   "id": "78cb269b",
   "metadata": {},
   "outputs": [
    {
     "data": {
      "text/plain": [
       "'11111111111111111111111111111111111111111111111111111111111111111111111111111111111111111111111111111111111111111111111111111111111111111111111111111111111111111111111111111111111111111111111111111111111111111111111111111111111111111111111111111111111111111111111111111111111111111111111111111111111111111111111111111111111111111111111111111111111111111111111111111111111111111111111111111111111111111111111111111111111111111111111111111111111111111111111111111111111111111111111111111111111111111111111111111111'"
      ]
     },
     "execution_count": 65,
     "metadata": {},
     "output_type": "execute_result"
    }
   ],
   "source": [
    "fp2 = Chem.RDKFingerprint(mol2,maxPath=7,fpSize=512)\n",
    "fp2.ToBitString()\n"
   ]
  },
  {
   "cell_type": "code",
   "execution_count": 66,
   "id": "663afe3d",
   "metadata": {},
   "outputs": [
    {
     "data": {
      "text/plain": [
       "array([1, 1, 1, 1, 1, 1, 1, 1, 1, 1, 1, 1, 1, 1, 1, 1, 1, 1, 1, 1, 1, 1,\n",
       "       1, 1, 1, 1, 1, 1, 1, 1, 1, 1, 1, 1, 1, 1, 1, 1, 1, 1, 1, 1, 1, 1,\n",
       "       1, 1, 1, 1, 1, 1, 1, 1, 1, 1, 1, 1, 1, 1, 1, 1, 1, 1, 1, 1, 1, 1,\n",
       "       1, 1, 1, 1, 1, 1, 1, 1, 1, 1, 1, 1, 1, 1, 1, 1, 1, 1, 1, 1, 1, 1,\n",
       "       1, 1, 1, 1, 1, 1, 1, 1, 1, 1, 1, 1, 1, 1, 1, 1, 1, 1, 1, 1, 1, 1,\n",
       "       1, 1, 1, 1, 1, 1, 1, 1, 1, 1, 1, 1, 1, 1, 1, 1, 1, 1, 1, 1, 1, 1,\n",
       "       1, 1, 1, 1, 1, 1, 1, 1, 1, 1, 1, 1, 1, 1, 1, 1, 1, 1, 1, 1, 1, 1,\n",
       "       1, 1, 1, 1, 1, 1, 1, 1, 1, 1, 1, 1, 1, 1, 1, 1, 1, 1, 1, 1, 1, 1,\n",
       "       1, 1, 1, 1, 1, 1, 1, 1, 1, 1, 1, 1, 1, 1, 1, 1, 1, 1, 1, 1, 1, 1,\n",
       "       1, 1, 1, 1, 1, 1, 1, 1, 1, 1, 1, 1, 1, 1, 1, 1, 1, 1, 1, 1, 1, 1,\n",
       "       1, 1, 1, 1, 1, 1, 1, 1, 1, 1, 1, 1, 1, 1, 1, 1, 1, 1, 1, 1, 1, 1,\n",
       "       1, 1, 1, 1, 1, 1, 1, 1, 1, 1, 1, 1, 1, 1, 1, 1, 1, 1, 1, 1, 1, 1,\n",
       "       1, 1, 1, 1, 1, 1, 1, 1, 1, 1, 1, 1, 1, 1, 1, 1, 1, 1, 1, 1, 1, 1,\n",
       "       1, 1, 1, 1, 1, 1, 1, 1, 1, 1, 1, 1, 1, 1, 1, 1, 1, 1, 1, 1, 1, 1,\n",
       "       1, 1, 1, 1, 1, 1, 1, 1, 1, 1, 1, 1, 1, 1, 1, 1, 1, 1, 1, 1, 1, 1,\n",
       "       1, 1, 1, 1, 1, 1, 1, 1, 1, 1, 1, 1, 1, 1, 1, 1, 1, 1, 1, 1, 1, 1,\n",
       "       1, 1, 1, 1, 1, 1, 1, 1, 1, 1, 1, 1, 1, 1, 1, 1, 1, 1, 1, 1, 1, 1,\n",
       "       1, 1, 1, 1, 1, 1, 1, 1, 1, 1, 1, 1, 1, 1, 1, 1, 1, 1, 1, 1, 1, 1,\n",
       "       1, 1, 1, 1, 1, 1, 1, 1, 1, 1, 1, 1, 1, 1, 1, 1, 1, 1, 1, 1, 1, 1,\n",
       "       1, 1, 1, 1, 1, 1, 1, 1, 1, 1, 1, 1, 1, 1, 1, 1, 1, 1, 1, 1, 1, 1,\n",
       "       1, 1, 1, 1, 1, 1, 1, 1, 1, 1, 1, 1, 1, 1, 1, 1, 1, 1, 1, 1, 1, 1,\n",
       "       1, 1, 1, 1, 1, 1, 1, 1, 1, 1, 1, 1, 1, 1, 1, 1, 1, 1, 1, 1, 1, 1,\n",
       "       1, 1, 1, 1, 1, 1, 1, 1, 1, 1, 1, 1, 1, 1, 1, 1, 1, 1, 1, 1, 1, 1,\n",
       "       1, 1, 1, 1, 1, 1])"
      ]
     },
     "execution_count": 66,
     "metadata": {},
     "output_type": "execute_result"
    }
   ],
   "source": [
    "import numpy as np\n",
    "np.array(fp2)"
   ]
  },
  {
   "cell_type": "code",
   "execution_count": 73,
   "id": "36f255e0",
   "metadata": {
    "scrolled": true
   },
   "outputs": [
    {
     "data": {
      "text/plain": [
       "<rdkit.DataStructs.cDataStructs.ExplicitBitVect at 0x1985b475a80>"
      ]
     },
     "execution_count": 73,
     "metadata": {},
     "output_type": "execute_result"
    }
   ],
   "source": [
    "from rdkit.Chem import AllChem\n",
    "MFP2 = AllChem.GetMorganFingerprintAsBitVect(mol2,5,nBits=512)\n",
    "MFP2\n"
   ]
  },
  {
   "cell_type": "code",
   "execution_count": 74,
   "id": "296a7080",
   "metadata": {},
   "outputs": [
    {
     "data": {
      "text/plain": [
       "'00000101000001010001100000010001010011000100011000001000001001011010000100000101000100000010001100010000000000000010100000001000001000000011101000011000001000000100000010000000000000000001000000001001000000000001001000000000000000000000000000000001001000000000000001001100101010001100100100010001100000000010110010100100000000000000000001000000000000010000100000100100010100000000110001000000000010000000000000000010000000010000000000001010000010010000000000000000100000000000000000000000000011100000000000010000'"
      ]
     },
     "execution_count": 74,
     "metadata": {},
     "output_type": "execute_result"
    }
   ],
   "source": [
    "MFP2.ToBitString()"
   ]
  },
  {
   "cell_type": "code",
   "execution_count": 76,
   "id": "4f80ab53",
   "metadata": {},
   "outputs": [
    {
     "data": {
      "text/plain": [
       "0.2961730449251248"
      ]
     },
     "execution_count": 76,
     "metadata": {},
     "output_type": "execute_result"
    }
   ],
   "source": [
    "\n",
    "rdkit.DataStructs.DiceSimilarity(fp2,MFP2)"
   ]
  },
  {
   "cell_type": "code",
   "execution_count": null,
   "id": "51683c73",
   "metadata": {},
   "outputs": [],
   "source": []
  }
 ],
 "metadata": {
  "kernelspec": {
   "display_name": "Python 3 (ipykernel)",
   "language": "python",
   "name": "python3"
  },
  "language_info": {
   "codemirror_mode": {
    "name": "ipython",
    "version": 3
   },
   "file_extension": ".py",
   "mimetype": "text/x-python",
   "name": "python",
   "nbconvert_exporter": "python",
   "pygments_lexer": "ipython3",
   "version": "3.7.13"
  }
 },
 "nbformat": 4,
 "nbformat_minor": 5
}
