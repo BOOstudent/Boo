{
 "cells": [
  {
   "cell_type": "code",
   "execution_count": 1,
   "id": "8f5bbde7",
   "metadata": {},
   "outputs": [],
   "source": [
    "import pandas as pd\n",
    "import numpy as np\n",
    "import re\n",
    "from papyrus_scripts.download import download_papyrus\n"
   ]
  },
  {
   "cell_type": "code",
   "execution_count": 2,
   "id": "cfb358f7",
   "metadata": {},
   "outputs": [
    {
     "name": "stdout",
     "output_type": "stream",
     "text": [
      "Latest version: 05.5\n",
      "Number of files to be donwloaded: 9\n",
      "Total size: 2.80GB\n"
     ]
    },
    {
     "data": {
      "application/vnd.jupyter.widget-view+json": {
       "model_id": "6f2ab14fe1454569bf923ffd8c6a487b",
       "version_major": 2,
       "version_minor": 0
      },
      "text/plain": [
       "Donwloading version 05.5:   0%|          | 0.00/2.80G [00:00<?, ?B/s]"
      ]
     },
     "metadata": {},
     "output_type": "display_data"
    }
   ],
   "source": [
    "download_papyrus(version='latest', structures=True, descriptors=['mold2', 'unirep'])"
   ]
  },
  {
   "cell_type": "code",
   "execution_count": 3,
   "id": "caf912c4",
   "metadata": {},
   "outputs": [],
   "source": [
    "from papyrus_scripts.reader import read_papyrus, read_protein_set"
   ]
  },
  {
   "cell_type": "code",
   "execution_count": 4,
   "id": "996ebaf1",
   "metadata": {},
   "outputs": [],
   "source": [
    "sample_data = read_papyrus(is3d=False, chunksize=1000000, source_path=None)"
   ]
  },
  {
   "cell_type": "code",
   "execution_count": 5,
   "id": "c5a3b358",
   "metadata": {},
   "outputs": [],
   "source": [
    "#chunk1 = next(sample_data)\n",
    "#chunk1"
   ]
  },
  {
   "cell_type": "code",
   "execution_count": 6,
   "id": "af45d473",
   "metadata": {},
   "outputs": [],
   "source": [
    "#pd.set_option('display.max_columns', None) # to show all columns in the dataframe\n",
    "#chunk1.head()"
   ]
  },
  {
   "cell_type": "code",
   "execution_count": 7,
   "id": "c8b4f027",
   "metadata": {},
   "outputs": [
    {
     "data": {
      "text/html": [
       "<div>\n",
       "<style scoped>\n",
       "    .dataframe tbody tr th:only-of-type {\n",
       "        vertical-align: middle;\n",
       "    }\n",
       "\n",
       "    .dataframe tbody tr th {\n",
       "        vertical-align: top;\n",
       "    }\n",
       "\n",
       "    .dataframe thead th {\n",
       "        text-align: right;\n",
       "    }\n",
       "</style>\n",
       "<table border=\"1\" class=\"dataframe\">\n",
       "  <thead>\n",
       "    <tr style=\"text-align: right;\">\n",
       "      <th></th>\n",
       "      <th>target_id</th>\n",
       "      <th>HGNC_symbol</th>\n",
       "      <th>UniProtID</th>\n",
       "      <th>Status</th>\n",
       "      <th>Organism</th>\n",
       "      <th>Classification</th>\n",
       "      <th>Length</th>\n",
       "      <th>Sequence</th>\n",
       "    </tr>\n",
       "  </thead>\n",
       "  <tbody>\n",
       "    <tr>\n",
       "      <th>0</th>\n",
       "      <td>P47747_WT</td>\n",
       "      <td></td>\n",
       "      <td>HRH2_CAVPO</td>\n",
       "      <td>reviewed</td>\n",
       "      <td>Cavia porcellus (Guinea pig)</td>\n",
       "      <td>Membrane receptor-&gt;Family A G protein-coupled ...</td>\n",
       "      <td>359</td>\n",
       "      <td>MAFNGTVPSFCMDFTVYKVTISVILIILILVTVAGNVVVCLAVGLN...</td>\n",
       "    </tr>\n",
       "    <tr>\n",
       "      <th>1</th>\n",
       "      <td>B0FL73_WT</td>\n",
       "      <td></td>\n",
       "      <td>B0FL73_CAVPO</td>\n",
       "      <td>unreviewed</td>\n",
       "      <td>Cavia porcellus (Guinea pig)</td>\n",
       "      <td>Membrane receptor-&gt;Family A G protein-coupled ...</td>\n",
       "      <td>467</td>\n",
       "      <td>MGAGVLALGASEPCNLSSTAPLPDGAATAARLLVPASPPASLLPPT...</td>\n",
       "    </tr>\n",
       "    <tr>\n",
       "      <th>2</th>\n",
       "      <td>Q8K4Z4_WT</td>\n",
       "      <td></td>\n",
       "      <td>ADRB2_CAVPO</td>\n",
       "      <td>reviewed</td>\n",
       "      <td>Cavia porcellus (Guinea pig)</td>\n",
       "      <td>Membrane receptor-&gt;Family A G protein-coupled ...</td>\n",
       "      <td>418</td>\n",
       "      <td>MGHLGNGSDFLLAPNASHAPDHNVTRERDEAWVVGMAIVMSLIVLA...</td>\n",
       "    </tr>\n",
       "    <tr>\n",
       "      <th>3</th>\n",
       "      <td>P97266_WT</td>\n",
       "      <td></td>\n",
       "      <td>OPRM_CAVPO</td>\n",
       "      <td>reviewed</td>\n",
       "      <td>Cavia porcellus (Guinea pig)</td>\n",
       "      <td>Membrane receptor-&gt;Family A G protein-coupled ...</td>\n",
       "      <td>98</td>\n",
       "      <td>YTKMKTATNIYIFNLALADALATSTLPFQSVNYLMGTWPFGTILCK...</td>\n",
       "    </tr>\n",
       "    <tr>\n",
       "      <th>4</th>\n",
       "      <td>P41144_WT</td>\n",
       "      <td></td>\n",
       "      <td>OPRK_CAVPO</td>\n",
       "      <td>reviewed</td>\n",
       "      <td>Cavia porcellus (Guinea pig)</td>\n",
       "      <td>Membrane receptor-&gt;Family A G protein-coupled ...</td>\n",
       "      <td>380</td>\n",
       "      <td>MGRRRQGPAQPASELPARNACLLPNGSAWLPGWAEPDGNGSAGPQD...</td>\n",
       "    </tr>\n",
       "  </tbody>\n",
       "</table>\n",
       "</div>"
      ],
      "text/plain": [
       "   target_id HGNC_symbol     UniProtID      Status  \\\n",
       "0  P47747_WT                HRH2_CAVPO    reviewed   \n",
       "1  B0FL73_WT              B0FL73_CAVPO  unreviewed   \n",
       "2  Q8K4Z4_WT               ADRB2_CAVPO    reviewed   \n",
       "3  P97266_WT                OPRM_CAVPO    reviewed   \n",
       "4  P41144_WT                OPRK_CAVPO    reviewed   \n",
       "\n",
       "                       Organism  \\\n",
       "0  Cavia porcellus (Guinea pig)   \n",
       "1  Cavia porcellus (Guinea pig)   \n",
       "2  Cavia porcellus (Guinea pig)   \n",
       "3  Cavia porcellus (Guinea pig)   \n",
       "4  Cavia porcellus (Guinea pig)   \n",
       "\n",
       "                                      Classification  Length  \\\n",
       "0  Membrane receptor->Family A G protein-coupled ...     359   \n",
       "1  Membrane receptor->Family A G protein-coupled ...     467   \n",
       "2  Membrane receptor->Family A G protein-coupled ...     418   \n",
       "3  Membrane receptor->Family A G protein-coupled ...      98   \n",
       "4  Membrane receptor->Family A G protein-coupled ...     380   \n",
       "\n",
       "                                            Sequence  \n",
       "0  MAFNGTVPSFCMDFTVYKVTISVILIILILVTVAGNVVVCLAVGLN...  \n",
       "1  MGAGVLALGASEPCNLSSTAPLPDGAATAARLLVPASPPASLLPPT...  \n",
       "2  MGHLGNGSDFLLAPNASHAPDHNVTRERDEAWVVGMAIVMSLIVLA...  \n",
       "3  YTKMKTATNIYIFNLALADALATSTLPFQSVNYLMGTWPFGTILCK...  \n",
       "4  MGRRRQGPAQPASELPARNACLLPNGSAWLPGWAEPDGNGSAGPQD...  "
      ]
     },
     "execution_count": 7,
     "metadata": {},
     "output_type": "execute_result"
    }
   ],
   "source": [
    "protein_data = read_protein_set(source_path=None)\n",
    "protein_data.head()"
   ]
  },
  {
   "cell_type": "code",
   "execution_count": 8,
   "id": "6b063b41",
   "metadata": {},
   "outputs": [],
   "source": [
    "from papyrus_scripts.preprocess import (keep_quality, keep_source, keep_type,\n",
    "                                        keep_organism, keep_accession, keep_protein_class,\n",
    "                                        keep_match, keep_contains\n",
    "                                       )"
   ]
  },
  {
   "cell_type": "markdown",
   "id": "4e0ea5ec",
   "metadata": {},
   "source": [
    "The next part was used to make sure the filtering step works on a smaller sample of the data prior to filtering the whole dataset. "
   ]
  },
  {
   "cell_type": "code",
   "execution_count": 9,
   "id": "91d0fb1f",
   "metadata": {},
   "outputs": [],
   "source": [
    "#filter1 = keep_accession(data=chunk1, accession=[\"P51681\", \"P41597\"])\n",
    "#filter1.head()\n"
   ]
  },
  {
   "cell_type": "code",
   "execution_count": 10,
   "id": "9f9b5ae1",
   "metadata": {},
   "outputs": [],
   "source": [
    "#print(f'Number of activity points: {filter1.shape[0]}')"
   ]
  },
  {
   "cell_type": "markdown",
   "id": "60b41d2e",
   "metadata": {},
   "source": [
    "From this point forward the entire dataset will be filtered"
   ]
  },
  {
   "cell_type": "code",
   "execution_count": 11,
   "id": "4034b5dc",
   "metadata": {},
   "outputs": [],
   "source": [
    "filter1_it = keep_accession(data=sample_data, accession=[\"P41597\"]) #CCR2: P41597 ; CCR5: P51681"
   ]
  },
  {
   "cell_type": "code",
   "execution_count": 12,
   "id": "8b2c4a2b",
   "metadata": {},
   "outputs": [],
   "source": [
    "#filter1_it"
   ]
  },
  {
   "cell_type": "code",
   "execution_count": 13,
   "id": "5a631bbf",
   "metadata": {},
   "outputs": [],
   "source": [
    "from papyrus_scripts.preprocess import consume_chunks"
   ]
  },
  {
   "cell_type": "code",
   "execution_count": 14,
   "id": "0cb7cc25",
   "metadata": {
    "scrolled": true
   },
   "outputs": [
    {
     "data": {
      "application/vnd.jupyter.widget-view+json": {
       "model_id": "4e14dc6356f0443ca2a30199c3a2cd7f",
       "version_major": 2,
       "version_minor": 0
      },
      "text/plain": [
       "  0%|          | 0/60 [00:00<?, ?it/s]"
      ]
     },
     "metadata": {},
     "output_type": "display_data"
    }
   ],
   "source": [
    "filtered_data_CCR2 = consume_chunks(filter1_it, progress=True, total=60)"
   ]
  },
  {
   "cell_type": "code",
   "execution_count": 15,
   "id": "cd2982d8",
   "metadata": {},
   "outputs": [
    {
     "name": "stdout",
     "output_type": "stream",
     "text": [
      "Number of activity points: 1688\n"
     ]
    }
   ],
   "source": [
    "print(f'Number of activity points: {filtered_data_CCR2.shape[0]}')"
   ]
  },
  {
   "cell_type": "code",
   "execution_count": 16,
   "id": "cdfa6cf7",
   "metadata": {},
   "outputs": [
    {
     "data": {
      "text/plain": [
       "Activity_ID             1688\n",
       "Quality                 1688\n",
       "source                  1688\n",
       "CID                     1688\n",
       "SMILES                  1688\n",
       "connectivity            1688\n",
       "InChIKey                1688\n",
       "InChI                   1688\n",
       "InChI_AuxInfo           1688\n",
       "target_id               1688\n",
       "accession               1688\n",
       "Protein_Type            1688\n",
       "AID                     1688\n",
       "doc_id                  1682\n",
       "Year                    1682\n",
       "all_doc_ids             1632\n",
       "all_years               1632\n",
       "type_IC50               1688\n",
       "type_EC50               1688\n",
       "type_KD                 1688\n",
       "type_Ki                 1688\n",
       "type_other              1688\n",
       "Activity_class             2\n",
       "relation                1686\n",
       "pchembl_value           1686\n",
       "pchembl_value_Mean      1686\n",
       "pchembl_value_StdDev    1686\n",
       "pchembl_value_SEM       1686\n",
       "pchembl_value_N         1686\n",
       "pchembl_value_Median    1686\n",
       "pchembl_value_MAD       1686\n",
       "dtype: int64"
      ]
     },
     "execution_count": 16,
     "metadata": {},
     "output_type": "execute_result"
    }
   ],
   "source": [
    "data_drop_CCR2 = filtered_data_CCR2.drop_duplicates(subset=['InChIKey'])\n",
    "data_drop_CCR2.count()"
   ]
  },
  {
   "cell_type": "code",
   "execution_count": 32,
   "id": "f3f7bf92",
   "metadata": {},
   "outputs": [],
   "source": [
    "#export DataFrame to CSV file\n",
    "data_drop_CCR2.to_csv(r'C:\\documenten hier\\ccr2_data.csv', index=False)"
   ]
  },
  {
   "cell_type": "code",
   "execution_count": 18,
   "id": "c488acd4",
   "metadata": {},
   "outputs": [],
   "source": [
    "filter2_it = keep_accession(data=sample_data, accession=[\"P51681\"]) #CCR5: P51681"
   ]
  },
  {
   "cell_type": "code",
   "execution_count": 19,
   "id": "5a071653",
   "metadata": {
    "scrolled": true
   },
   "outputs": [],
   "source": [
    "filtered_data_CCR5 = consume_chunks(filter2_it, progress=True, total=60)"
   ]
  },
  {
   "cell_type": "code",
   "execution_count": 20,
   "id": "d119085c",
   "metadata": {},
   "outputs": [],
   "source": [
    "print(f'Number of activity points: {filtered_data_CCR5.shape[0]}')"
   ]
  },
  {
   "cell_type": "code",
   "execution_count": 21,
   "id": "480ed12b",
   "metadata": {},
   "outputs": [],
   "source": [
    "data_drop_CCR5 = filtered_data_CCR5.drop_duplicates(subset=['InChIKey'])"
   ]
  },
  {
   "cell_type": "code",
   "execution_count": 22,
   "id": "a983dbe2",
   "metadata": {},
   "outputs": [],
   "source": [
    "data_drop_CCR5.count()"
   ]
  },
  {
   "cell_type": "code",
   "execution_count": 23,
   "id": "2124d614",
   "metadata": {},
   "outputs": [],
   "source": [
    "#export DataFrame to CSV file\n",
    "data_drop_CCR5.to_csv(r'C:\\documenten hier\\ccr5_data.csv', index=False)"
   ]
  },
  {
   "cell_type": "code",
   "execution_count": 24,
   "id": "48c915bc",
   "metadata": {},
   "outputs": [],
   "source": [
    "filtered_data['accession'].value_counts().to_frame()"
   ]
  },
  {
   "cell_type": "code",
   "execution_count": 25,
   "id": "a3ae72b7",
   "metadata": {},
   "outputs": [],
   "source": [
    "filtered_data['target_id'].value_counts().to_frame()"
   ]
  },
  {
   "cell_type": "code",
   "execution_count": 26,
   "id": "614ad96c",
   "metadata": {},
   "outputs": [],
   "source": [
    "import matplotlib.pyplot as plt\n",
    "df_2 = pd.DataFrame(filtered_data.groupby(['accession'])['accession'].count()).rename({'accession':'count'},axis=1)\n",
    "f_2 = df_2.sort_values(by='count',ascending=False)\n",
    "y_pos = np.arange(len(df_2))\n",
    "plt.bar(y_pos,df_2['count'], align='center', alpha=0.5)\n",
    "plt.xticks(y_pos, df_2.index)\n",
    "plt.ylabel('Frequency')\n",
    "plt.title('accession')\n",
    "plt.show()"
   ]
  },
  {
   "cell_type": "markdown",
   "id": "516ca137",
   "metadata": {},
   "source": []
  }
 ],
 "metadata": {
  "kernelspec": {
   "display_name": "Python 3 (ipykernel)",
   "language": "python",
   "name": "python3"
  },
  "language_info": {
   "codemirror_mode": {
    "name": "ipython",
    "version": 3
   },
   "file_extension": ".py",
   "mimetype": "text/x-python",
   "name": "python",
   "nbconvert_exporter": "python",
   "pygments_lexer": "ipython3",
   "version": "3.7.13"
  }
 },
 "nbformat": 4,
 "nbformat_minor": 5
}
